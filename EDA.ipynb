{
  "nbformat": 4,
  "nbformat_minor": 0,
  "metadata": {
    "colab": {
      "provenance": [],
      "authorship_tag": "ABX9TyMlctA2gZQc/pxu9vMbTNJf",
      "include_colab_link": true
    },
    "kernelspec": {
      "name": "ir",
      "display_name": "R"
    },
    "language_info": {
      "name": "R"
    }
  },
  "cells": [
    {
      "cell_type": "markdown",
      "metadata": {
        "id": "view-in-github",
        "colab_type": "text"
      },
      "source": [
        "<a href=\"https://colab.research.google.com/github/ReVuz/R_programming/blob/main/EDA.ipynb\" target=\"_parent\"><img src=\"https://colab.research.google.com/assets/colab-badge.svg\" alt=\"Open In Colab\"/></a>"
      ]
    },
    {
      "cell_type": "markdown",
      "source": [
        "EDA on \"Titanic Dataset\"\n",
        "\n",
        "You are given the Titanic dataset, which contains information about passengers on the Titanic, including their survival status, age, class, and gender.\n",
        "\n",
        "a)plot the histogram of Number of parents and children of the passenger aboard(parch).\n",
        "\n",
        "b)Perform a detailed EDA, including advanced statistical analysis, to explore factors influencing survival rates.\n",
        "\n",
        "c)Create a customized box plot to visualize the age distribution of survivors and non-survivors."
      ],
      "metadata": {
        "id": "TnKLAAV9cuJa"
      }
    },
    {
      "cell_type": "code",
      "source": [
        "install.packages(\"survminer\")"
      ],
      "metadata": {
        "colab": {
          "base_uri": "https://localhost:8080/"
        },
        "id": "j0KoOgN-inAJ",
        "outputId": "16f1d7b4-6a2f-4a77-dfb0-b400453e2dd0"
      },
      "execution_count": null,
      "outputs": [
        {
          "output_type": "stream",
          "name": "stderr",
          "text": [
            "Installing package into ‘/usr/local/lib/R/site-library’\n",
            "(as ‘lib’ is unspecified)\n",
            "\n",
            "also installing the dependencies ‘numDeriv’, ‘SparseM’, ‘MatrixModels’, ‘minqa’, ‘nloptr’, ‘RcppEigen’, ‘carData’, ‘abind’, ‘pbkrtest’, ‘quantreg’, ‘lme4’, ‘Rcpp’, ‘corrplot’, ‘car’, ‘markdown’, ‘png’, ‘jpeg’, ‘ggrepel’, ‘ggsci’, ‘cowplot’, ‘ggsignif’, ‘polynom’, ‘rstatix’, ‘exactRankTests’, ‘mvtnorm’, ‘KMsurv’, ‘zoo’, ‘km.ci’, ‘xtable’, ‘gridtext’, ‘ggpubr’, ‘gridExtra’, ‘maxstat’, ‘survMisc’, ‘ggtext’\n",
            "\n",
            "\n",
            "Warning message in install.packages(\"survminer\"):\n",
            "“installation of package ‘car’ had non-zero exit status”\n",
            "Warning message in install.packages(\"survminer\"):\n",
            "“installation of package ‘rstatix’ had non-zero exit status”\n",
            "Warning message in install.packages(\"survminer\"):\n",
            "“installation of package ‘ggpubr’ had non-zero exit status”\n",
            "Warning message in install.packages(\"survminer\"):\n",
            "“installation of package ‘survminer’ had non-zero exit status”\n"
          ]
        }
      ]
    },
    {
      "cell_type": "code",
      "execution_count": 54,
      "metadata": {
        "colab": {
          "base_uri": "https://localhost:8080/",
          "height": 437
        },
        "id": "MDkXs-LKcmM-",
        "outputId": "b6a0aca9-fffd-4cbe-ffb5-87d59eef64c0"
      },
      "outputs": [
        {
          "output_type": "display_data",
          "data": {
            "text/plain": [
              "Plot with title “Histogram of Number of Parents and Children Aboard”"
            ],
            "image/png": "[encoded data removed]"
          },
          "metadata": {
            "image/png": {
              "width": 420,
              "height": 420
            }
          }
        }
      ],
      "source": [
        "# plot the histogram of Number of parents and children of the passenger aboard(parch)\n",
        "\n",
        "Titanic_df <- read.csv(\"titanic.csv\")\n",
        "\n",
        "# Convert 'Parch' to numeric\n",
        "Titanic_df$Parch <- as.numeric(as.character(Titanic_df$Parch))\n",
        "\n",
        "# Create the histogram\n",
        "hist(Titanic_df$Parch, main = \"Histogram of Number of Parents and Children Aboard\",\n",
        "     xlab = \"Parch\", col = \"lightblue\")\n"
      ]
    },
    {
      "cell_type": "code",
      "source": [
        "# Perform a detailed EDA, including advanced statistical analysis, to explore factors influencing survival rates.\n",
        "\n",
        "# Load the dplyr and ggplot2 packages\n",
        "library(dplyr)\n",
        "library(ggplot2)\n",
        "\n",
        "# Summarize the survival rates by class, sex, and age group\n",
        "Titanic_df %>%\n",
        "  group_by(Pclass, Sex, Age) %>%\n",
        "  summarise(Survived = sum(Survived), Total = n(), Rate = Survived / Total) %>%\n",
        "  ungroup()"
      ],
      "metadata": {
        "colab": {
          "base_uri": "https://localhost:8080/",
          "height": 1000
        },
        "id": "VXYJZLQZhiPw",
        "outputId": "a08fa219-1498-44d6-d7f7-9b988c2eaf9a"
      },
      "execution_count": 50,
      "outputs": [
        {
          "output_type": "stream",
          "name": "stderr",
          "text": [
            "\u001b[1m\u001b[22m`summarise()` has grouped output by 'Pclass', 'Sex'. You can override using the\n",
            "`.groups` argument.\n"
          ]
        },
        {
          "output_type": "display_data",
          "data": {
            "text/html": [
              "<table class=\"dataframe\">\n",
              "<caption>A tibble: 289 × 6</caption>\n",
              "<thead>\n",
              "\t<tr><th scope=col>Pclass</th><th scope=col>Sex</th><th scope=col>Age</th><th scope=col>Survived</th><th scope=col>Total</th><th scope=col>Rate</th></tr>\n",
              "\t<tr><th scope=col>&lt;int&gt;</th><th scope=col>&lt;chr&gt;</th><th scope=col>&lt;dbl&gt;</th><th scope=col>&lt;int&gt;</th><th scope=col>&lt;int&gt;</th><th scope=col>&lt;dbl&gt;</th></tr>\n",
              "</thead>\n",
              "<tbody>\n",
              "\t<tr><td>1</td><td>female</td><td> 2</td><td>0</td><td>1</td><td>0</td></tr>\n",
              "\t<tr><td>1</td><td>female</td><td>14</td><td>1</td><td>1</td><td>1</td></tr>\n",
              "\t<tr><td>1</td><td>female</td><td>15</td><td>1</td><td>1</td><td>1</td></tr>\n",
              "\t<tr><td>1</td><td>female</td><td>16</td><td>3</td><td>3</td><td>1</td></tr>\n",
              "\t<tr><td>1</td><td>female</td><td>17</td><td>2</td><td>2</td><td>1</td></tr>\n",
              "\t<tr><td>1</td><td>female</td><td>18</td><td>3</td><td>3</td><td>1</td></tr>\n",
              "\t<tr><td>1</td><td>female</td><td>19</td><td>3</td><td>3</td><td>1</td></tr>\n",
              "\t<tr><td>1</td><td>female</td><td>21</td><td>2</td><td>2</td><td>1</td></tr>\n",
              "\t<tr><td>1</td><td>female</td><td>22</td><td>4</td><td>4</td><td>1</td></tr>\n",
              "\t<tr><td>1</td><td>female</td><td>23</td><td>2</td><td>2</td><td>1</td></tr>\n",
              "\t<tr><td>1</td><td>female</td><td>24</td><td>5</td><td>5</td><td>1</td></tr>\n",
              "\t<tr><td>1</td><td>female</td><td>25</td><td>0</td><td>1</td><td>0</td></tr>\n",
              "\t<tr><td>1</td><td>female</td><td>26</td><td>1</td><td>1</td><td>1</td></tr>\n",
              "\t<tr><td>1</td><td>female</td><td>29</td><td>1</td><td>1</td><td>1</td></tr>\n",
              "\t<tr><td>1</td><td>female</td><td>30</td><td>5</td><td>5</td><td>1</td></tr>\n",
              "\t<tr><td>1</td><td>female</td><td>31</td><td>2</td><td>2</td><td>1</td></tr>\n",
              "\t<tr><td>1</td><td>female</td><td>32</td><td>1</td><td>1</td><td>1</td></tr>\n",
              "\t<tr><td>1</td><td>female</td><td>33</td><td>3</td><td>3</td><td>1</td></tr>\n",
              "\t<tr><td>1</td><td>female</td><td>35</td><td>6</td><td>6</td><td>1</td></tr>\n",
              "\t<tr><td>1</td><td>female</td><td>36</td><td>3</td><td>3</td><td>1</td></tr>\n",
              "\t<tr><td>1</td><td>female</td><td>38</td><td>3</td><td>3</td><td>1</td></tr>\n",
              "\t<tr><td>1</td><td>female</td><td>39</td><td>4</td><td>4</td><td>1</td></tr>\n",
              "\t<tr><td>1</td><td>female</td><td>40</td><td>2</td><td>2</td><td>1</td></tr>\n",
              "\t<tr><td>1</td><td>female</td><td>41</td><td>1</td><td>1</td><td>1</td></tr>\n",
              "\t<tr><td>1</td><td>female</td><td>42</td><td>1</td><td>1</td><td>1</td></tr>\n",
              "\t<tr><td>1</td><td>female</td><td>43</td><td>1</td><td>1</td><td>1</td></tr>\n",
              "\t<tr><td>1</td><td>female</td><td>44</td><td>2</td><td>2</td><td>1</td></tr>\n",
              "\t<tr><td>1</td><td>female</td><td>45</td><td>1</td><td>1</td><td>1</td></tr>\n",
              "\t<tr><td>1</td><td>female</td><td>47</td><td>1</td><td>1</td><td>1</td></tr>\n",
              "\t<tr><td>1</td><td>female</td><td>48</td><td>2</td><td>2</td><td>1</td></tr>\n",
              "\t<tr><td>⋮</td><td>⋮</td><td>⋮</td><td>⋮</td><td>⋮</td><td>⋮</td></tr>\n",
              "\t<tr><td>3</td><td>male</td><td>31.0</td><td>1</td><td> 3</td><td>0.33333333</td></tr>\n",
              "\t<tr><td>3</td><td>male</td><td>32.0</td><td>5</td><td>11</td><td>0.45454545</td></tr>\n",
              "\t<tr><td>3</td><td>male</td><td>33.0</td><td>0</td><td> 7</td><td>0.00000000</td></tr>\n",
              "\t<tr><td>3</td><td>male</td><td>34.0</td><td>0</td><td> 4</td><td>0.00000000</td></tr>\n",
              "\t<tr><td>3</td><td>male</td><td>34.5</td><td>0</td><td> 1</td><td>0.00000000</td></tr>\n",
              "\t<tr><td>3</td><td>male</td><td>35.0</td><td>0</td><td> 5</td><td>0.00000000</td></tr>\n",
              "\t<tr><td>3</td><td>male</td><td>36.0</td><td>0</td><td> 5</td><td>0.00000000</td></tr>\n",
              "\t<tr><td>3</td><td>male</td><td>37.0</td><td>0</td><td> 1</td><td>0.00000000</td></tr>\n",
              "\t<tr><td>3</td><td>male</td><td>38.0</td><td>0</td><td> 3</td><td>0.00000000</td></tr>\n",
              "\t<tr><td>3</td><td>male</td><td>39.0</td><td>1</td><td> 4</td><td>0.25000000</td></tr>\n",
              "\t<tr><td>3</td><td>male</td><td>40.0</td><td>0</td><td> 4</td><td>0.00000000</td></tr>\n",
              "\t<tr><td>3</td><td>male</td><td>40.5</td><td>0</td><td> 2</td><td>0.00000000</td></tr>\n",
              "\t<tr><td>3</td><td>male</td><td>41.0</td><td>0</td><td> 2</td><td>0.00000000</td></tr>\n",
              "\t<tr><td>3</td><td>male</td><td>42.0</td><td>0</td><td> 4</td><td>0.00000000</td></tr>\n",
              "\t<tr><td>3</td><td>male</td><td>43.0</td><td>0</td><td> 2</td><td>0.00000000</td></tr>\n",
              "\t<tr><td>3</td><td>male</td><td>44.0</td><td>1</td><td> 4</td><td>0.25000000</td></tr>\n",
              "\t<tr><td>3</td><td>male</td><td>45.0</td><td>1</td><td> 2</td><td>0.50000000</td></tr>\n",
              "\t<tr><td>3</td><td>male</td><td>45.5</td><td>0</td><td> 1</td><td>0.00000000</td></tr>\n",
              "\t<tr><td>3</td><td>male</td><td>47.0</td><td>0</td><td> 2</td><td>0.00000000</td></tr>\n",
              "\t<tr><td>3</td><td>male</td><td>48.0</td><td>0</td><td> 1</td><td>0.00000000</td></tr>\n",
              "\t<tr><td>3</td><td>male</td><td>49.0</td><td>0</td><td> 1</td><td>0.00000000</td></tr>\n",
              "\t<tr><td>3</td><td>male</td><td>50.0</td><td>0</td><td> 1</td><td>0.00000000</td></tr>\n",
              "\t<tr><td>3</td><td>male</td><td>51.0</td><td>0</td><td> 3</td><td>0.00000000</td></tr>\n",
              "\t<tr><td>3</td><td>male</td><td>55.5</td><td>0</td><td> 1</td><td>0.00000000</td></tr>\n",
              "\t<tr><td>3</td><td>male</td><td>59.0</td><td>0</td><td> 1</td><td>0.00000000</td></tr>\n",
              "\t<tr><td>3</td><td>male</td><td>61.0</td><td>0</td><td> 1</td><td>0.00000000</td></tr>\n",
              "\t<tr><td>3</td><td>male</td><td>65.0</td><td>0</td><td> 1</td><td>0.00000000</td></tr>\n",
              "\t<tr><td>3</td><td>male</td><td>70.5</td><td>0</td><td> 1</td><td>0.00000000</td></tr>\n",
              "\t<tr><td>3</td><td>male</td><td>74.0</td><td>0</td><td> 1</td><td>0.00000000</td></tr>\n",
              "\t<tr><td>3</td><td>male</td><td>  NA</td><td>9</td><td>94</td><td>0.09574468</td></tr>\n",
              "</tbody>\n",
              "</table>\n"
            ],
            "text/markdown": "\nA tibble: 289 × 6\n\n| Pclass &lt;int&gt; | Sex &lt;chr&gt; | Age &lt;dbl&gt; | Survived &lt;int&gt; | Total &lt;int&gt; | Rate &lt;dbl&gt; |\n|---|---|---|---|---|---|\n| 1 | female |  2 | 0 | 1 | 0 |\n| 1 | female | 14 | 1 | 1 | 1 |\n| 1 | female | 15 | 1 | 1 | 1 |\n| 1 | female | 16 | 3 | 3 | 1 |\n| 1 | female | 17 | 2 | 2 | 1 |\n| 1 | female | 18 | 3 | 3 | 1 |\n| 1 | female | 19 | 3 | 3 | 1 |\n| 1 | female | 21 | 2 | 2 | 1 |\n| 1 | female | 22 | 4 | 4 | 1 |\n| 1 | female | 23 | 2 | 2 | 1 |\n| 1 | female | 24 | 5 | 5 | 1 |\n| 1 | female | 25 | 0 | 1 | 0 |\n| 1 | female | 26 | 1 | 1 | 1 |\n| 1 | female | 29 | 1 | 1 | 1 |\n| 1 | female | 30 | 5 | 5 | 1 |\n| 1 | female | 31 | 2 | 2 | 1 |\n| 1 | female | 32 | 1 | 1 | 1 |\n| 1 | female | 33 | 3 | 3 | 1 |\n| 1 | female | 35 | 6 | 6 | 1 |\n| 1 | female | 36 | 3 | 3 | 1 |\n| 1 | female | 38 | 3 | 3 | 1 |\n| 1 | female | 39 | 4 | 4 | 1 |\n| 1 | female | 40 | 2 | 2 | 1 |\n| 1 | female | 41 | 1 | 1 | 1 |\n| 1 | female | 42 | 1 | 1 | 1 |\n| 1 | female | 43 | 1 | 1 | 1 |\n| 1 | female | 44 | 2 | 2 | 1 |\n| 1 | female | 45 | 1 | 1 | 1 |\n| 1 | female | 47 | 1 | 1 | 1 |\n| 1 | female | 48 | 2 | 2 | 1 |\n| ⋮ | ⋮ | ⋮ | ⋮ | ⋮ | ⋮ |\n| 3 | male | 31.0 | 1 |  3 | 0.33333333 |\n| 3 | male | 32.0 | 5 | 11 | 0.45454545 |\n| 3 | male | 33.0 | 0 |  7 | 0.00000000 |\n| 3 | male | 34.0 | 0 |  4 | 0.00000000 |\n| 3 | male | 34.5 | 0 |  1 | 0.00000000 |\n| 3 | male | 35.0 | 0 |  5 | 0.00000000 |\n| 3 | male | 36.0 | 0 |  5 | 0.00000000 |\n| 3 | male | 37.0 | 0 |  1 | 0.00000000 |\n| 3 | male | 38.0 | 0 |  3 | 0.00000000 |\n| 3 | male | 39.0 | 1 |  4 | 0.25000000 |\n| 3 | male | 40.0 | 0 |  4 | 0.00000000 |\n| 3 | male | 40.5 | 0 |  2 | 0.00000000 |\n| 3 | male | 41.0 | 0 |  2 | 0.00000000 |\n| 3 | male | 42.0 | 0 |  4 | 0.00000000 |\n| 3 | male | 43.0 | 0 |  2 | 0.00000000 |\n| 3 | male | 44.0 | 1 |  4 | 0.25000000 |\n| 3 | male | 45.0 | 1 |  2 | 0.50000000 |\n| 3 | male | 45.5 | 0 |  1 | 0.00000000 |\n| 3 | male | 47.0 | 0 |  2 | 0.00000000 |\n| 3 | male | 48.0 | 0 |  1 | 0.00000000 |\n| 3 | male | 49.0 | 0 |  1 | 0.00000000 |\n| 3 | male | 50.0 | 0 |  1 | 0.00000000 |\n| 3 | male | 51.0 | 0 |  3 | 0.00000000 |\n| 3 | male | 55.5 | 0 |  1 | 0.00000000 |\n| 3 | male | 59.0 | 0 |  1 | 0.00000000 |\n| 3 | male | 61.0 | 0 |  1 | 0.00000000 |\n| 3 | male | 65.0 | 0 |  1 | 0.00000000 |\n| 3 | male | 70.5 | 0 |  1 | 0.00000000 |\n| 3 | male | 74.0 | 0 |  1 | 0.00000000 |\n| 3 | male |   NA | 9 | 94 | 0.09574468 |\n\n",
            "text/latex": "A tibble: 289 × 6\n\\begin{tabular}{llllll}\n Pclass & Sex & Age & Survived & Total & Rate\\\\\n <int> & <chr> & <dbl> & <int> & <int> & <dbl>\\\\\n\\hline\n\t 1 & female &  2 & 0 & 1 & 0\\\\\n\t 1 & female & 14 & 1 & 1 & 1\\\\\n\t 1 & female & 15 & 1 & 1 & 1\\\\\n\t 1 & female & 16 & 3 & 3 & 1\\\\\n\t 1 & female & 17 & 2 & 2 & 1\\\\\n\t 1 & female & 18 & 3 & 3 & 1\\\\\n\t 1 & female & 19 & 3 & 3 & 1\\\\\n\t 1 & female & 21 & 2 & 2 & 1\\\\\n\t 1 & female & 22 & 4 & 4 & 1\\\\\n\t 1 & female & 23 & 2 & 2 & 1\\\\\n\t 1 & female & 24 & 5 & 5 & 1\\\\\n\t 1 & female & 25 & 0 & 1 & 0\\\\\n\t 1 & female & 26 & 1 & 1 & 1\\\\\n\t 1 & female & 29 & 1 & 1 & 1\\\\\n\t 1 & female & 30 & 5 & 5 & 1\\\\\n\t 1 & female & 31 & 2 & 2 & 1\\\\\n\t 1 & female & 32 & 1 & 1 & 1\\\\\n\t 1 & female & 33 & 3 & 3 & 1\\\\\n\t 1 & female & 35 & 6 & 6 & 1\\\\\n\t 1 & female & 36 & 3 & 3 & 1\\\\\n\t 1 & female & 38 & 3 & 3 & 1\\\\\n\t 1 & female & 39 & 4 & 4 & 1\\\\\n\t 1 & female & 40 & 2 & 2 & 1\\\\\n\t 1 & female & 41 & 1 & 1 & 1\\\\\n\t 1 & female & 42 & 1 & 1 & 1\\\\\n\t 1 & female & 43 & 1 & 1 & 1\\\\\n\t 1 & female & 44 & 2 & 2 & 1\\\\\n\t 1 & female & 45 & 1 & 1 & 1\\\\\n\t 1 & female & 47 & 1 & 1 & 1\\\\\n\t 1 & female & 48 & 2 & 2 & 1\\\\\n\t ⋮ & ⋮ & ⋮ & ⋮ & ⋮ & ⋮\\\\\n\t 3 & male & 31.0 & 1 &  3 & 0.33333333\\\\\n\t 3 & male & 32.0 & 5 & 11 & 0.45454545\\\\\n\t 3 & male & 33.0 & 0 &  7 & 0.00000000\\\\\n\t 3 & male & 34.0 & 0 &  4 & 0.00000000\\\\\n\t 3 & male & 34.5 & 0 &  1 & 0.00000000\\\\\n\t 3 & male & 35.0 & 0 &  5 & 0.00000000\\\\\n\t 3 & male & 36.0 & 0 &  5 & 0.00000000\\\\\n\t 3 & male & 37.0 & 0 &  1 & 0.00000000\\\\\n\t 3 & male & 38.0 & 0 &  3 & 0.00000000\\\\\n\t 3 & male & 39.0 & 1 &  4 & 0.25000000\\\\\n\t 3 & male & 40.0 & 0 &  4 & 0.00000000\\\\\n\t 3 & male & 40.5 & 0 &  2 & 0.00000000\\\\\n\t 3 & male & 41.0 & 0 &  2 & 0.00000000\\\\\n\t 3 & male & 42.0 & 0 &  4 & 0.00000000\\\\\n\t 3 & male & 43.0 & 0 &  2 & 0.00000000\\\\\n\t 3 & male & 44.0 & 1 &  4 & 0.25000000\\\\\n\t 3 & male & 45.0 & 1 &  2 & 0.50000000\\\\\n\t 3 & male & 45.5 & 0 &  1 & 0.00000000\\\\\n\t 3 & male & 47.0 & 0 &  2 & 0.00000000\\\\\n\t 3 & male & 48.0 & 0 &  1 & 0.00000000\\\\\n\t 3 & male & 49.0 & 0 &  1 & 0.00000000\\\\\n\t 3 & male & 50.0 & 0 &  1 & 0.00000000\\\\\n\t 3 & male & 51.0 & 0 &  3 & 0.00000000\\\\\n\t 3 & male & 55.5 & 0 &  1 & 0.00000000\\\\\n\t 3 & male & 59.0 & 0 &  1 & 0.00000000\\\\\n\t 3 & male & 61.0 & 0 &  1 & 0.00000000\\\\\n\t 3 & male & 65.0 & 0 &  1 & 0.00000000\\\\\n\t 3 & male & 70.5 & 0 &  1 & 0.00000000\\\\\n\t 3 & male & 74.0 & 0 &  1 & 0.00000000\\\\\n\t 3 & male &   NA & 9 & 94 & 0.09574468\\\\\n\\end{tabular}\n",
            "text/plain": [
              "    Pclass Sex    Age  Survived Total Rate      \n",
              "1   1      female  2   0        1     0         \n",
              "2   1      female 14   1        1     1         \n",
              "3   1      female 15   1        1     1         \n",
              "4   1      female 16   3        3     1         \n",
              "5   1      female 17   2        2     1         \n",
              "6   1      female 18   3        3     1         \n",
              "7   1      female 19   3        3     1         \n",
              "8   1      female 21   2        2     1         \n",
              "9   1      female 22   4        4     1         \n",
              "10  1      female 23   2        2     1         \n",
              "11  1      female 24   5        5     1         \n",
              "12  1      female 25   0        1     0         \n",
              "13  1      female 26   1        1     1         \n",
              "14  1      female 29   1        1     1         \n",
              "15  1      female 30   5        5     1         \n",
              "16  1      female 31   2        2     1         \n",
              "17  1      female 32   1        1     1         \n",
              "18  1      female 33   3        3     1         \n",
              "19  1      female 35   6        6     1         \n",
              "20  1      female 36   3        3     1         \n",
              "21  1      female 38   3        3     1         \n",
              "22  1      female 39   4        4     1         \n",
              "23  1      female 40   2        2     1         \n",
              "24  1      female 41   1        1     1         \n",
              "25  1      female 42   1        1     1         \n",
              "26  1      female 43   1        1     1         \n",
              "27  1      female 44   2        2     1         \n",
              "28  1      female 45   1        1     1         \n",
              "29  1      female 47   1        1     1         \n",
              "30  1      female 48   2        2     1         \n",
              "⋮   ⋮      ⋮      ⋮    ⋮        ⋮     ⋮         \n",
              "260 3      male   31.0 1         3    0.33333333\n",
              "261 3      male   32.0 5        11    0.45454545\n",
              "262 3      male   33.0 0         7    0.00000000\n",
              "263 3      male   34.0 0         4    0.00000000\n",
              "264 3      male   34.5 0         1    0.00000000\n",
              "265 3      male   35.0 0         5    0.00000000\n",
              "266 3      male   36.0 0         5    0.00000000\n",
              "267 3      male   37.0 0         1    0.00000000\n",
              "268 3      male   38.0 0         3    0.00000000\n",
              "269 3      male   39.0 1         4    0.25000000\n",
              "270 3      male   40.0 0         4    0.00000000\n",
              "271 3      male   40.5 0         2    0.00000000\n",
              "272 3      male   41.0 0         2    0.00000000\n",
              "273 3      male   42.0 0         4    0.00000000\n",
              "274 3      male   43.0 0         2    0.00000000\n",
              "275 3      male   44.0 1         4    0.25000000\n",
              "276 3      male   45.0 1         2    0.50000000\n",
              "277 3      male   45.5 0         1    0.00000000\n",
              "278 3      male   47.0 0         2    0.00000000\n",
              "279 3      male   48.0 0         1    0.00000000\n",
              "280 3      male   49.0 0         1    0.00000000\n",
              "281 3      male   50.0 0         1    0.00000000\n",
              "282 3      male   51.0 0         3    0.00000000\n",
              "283 3      male   55.5 0         1    0.00000000\n",
              "284 3      male   59.0 0         1    0.00000000\n",
              "285 3      male   61.0 0         1    0.00000000\n",
              "286 3      male   65.0 0         1    0.00000000\n",
              "287 3      male   70.5 0         1    0.00000000\n",
              "288 3      male   74.0 0         1    0.00000000\n",
              "289 3      male     NA 9        94    0.09574468"
            ]
          },
          "metadata": {}
        }
      ]
    },
    {
      "cell_type": "code",
      "source": [
        "# Create a customized box plot to visualize the age distribution of survivors and non-survivors\n",
        "\n",
        "# Load the ggplot2 package\n",
        "library(ggplot2)\n",
        "\n",
        "# Check for missing values in 'Age'\n",
        "sum(is.na(Titanic_df$Age))\n",
        "\n",
        "# Handle missing values (e.g., remove rows with missing 'Age')\n",
        "Titanic_df <- na.omit(Titanic_df)\n",
        "\n",
        "# Convert 'Survived' to a factor\n",
        "Titanic_df$Survived <- factor(Titanic_df$Survived, levels = c(\"No\", \"Yes\"))\n",
        "\n",
        "# Create a customized box plot of age by survival\n",
        "ggplot(Titanic_df, aes(x = Survived, y = Age, fill = Survived)) +\n",
        "  geom_boxplot(outlier.shape = NA) + # Remove outliers\n",
        "  scale_x_discrete(labels = c(\"No\", \"Yes\")) + # Rename x-axis labels\n",
        "  scale_fill_manual(values = c(\"red\", \"green\")) + # Change fill colors\n",
        "  labs(title = \"Age Distribution of Survivors and Non-Survivors\", x = \"Survived\", y = \"Age\")"
      ],
      "metadata": {
        "colab": {
          "base_uri": "https://localhost:8080/",
          "height": 454
        },
        "id": "SojLeHQDoNcA",
        "outputId": "43ba009c-bbdd-440d-e02f-92b9e1ca647f"
      },
      "execution_count": 55,
      "outputs": [
        {
          "output_type": "display_data",
          "data": {
            "text/html": [
              "177"
            ],
            "text/markdown": "177",
            "text/latex": "177",
            "text/plain": [
              "[1] 177"
            ]
          },
          "metadata": {}
        },
        {
          "output_type": "display_data",
          "data": {
            "text/plain": [
              "plot without title"
            ],
            "image/png": "[encoded data removed]"
          },
          "metadata": {
            "image/png": {
              "width": 420,
              "height": 420
            }
          }
        }
      ]
    },
    {
      "cell_type": "markdown",
      "source": [
        "2: EDA on \"Iris Dataset\"\n",
        "\n",
        "a)For the Iris dataset, which contains measurements of various iris flowers, conduct  an EDA.\n",
        "\n",
        "b) Determine if there are statistically significant differences in sepal lengths between            different species using a suitable statistical test.\n",
        "\n",
        "c)Create a pair plot to visualize the relationships between all variables."
      ],
      "metadata": {
        "id": "O0l5yBHYqVLK"
      }
    },
    {
      "cell_type": "code",
      "source": [
        "data(\"iris\")\n",
        "summary(iris)"
      ],
      "metadata": {
        "colab": {
          "base_uri": "https://localhost:8080/",
          "height": 273
        },
        "id": "Jrjwn75jqWSm",
        "outputId": "e2027e95-fbad-46d1-b013-c5a75cffe6b5"
      },
      "execution_count": 56,
      "outputs": [
        {
          "output_type": "display_data",
          "data": {
            "text/plain": [
              "  Sepal.Length    Sepal.Width     Petal.Length    Petal.Width   \n",
              " Min.   :4.300   Min.   :2.000   Min.   :1.000   Min.   :0.100  \n",
              " 1st Qu.:5.100   1st Qu.:2.800   1st Qu.:1.600   1st Qu.:0.300  \n",
              " Median :5.800   Median :3.000   Median :4.350   Median :1.300  \n",
              " Mean   :5.843   Mean   :3.057   Mean   :3.758   Mean   :1.199  \n",
              " 3rd Qu.:6.400   3rd Qu.:3.300   3rd Qu.:5.100   3rd Qu.:1.800  \n",
              " Max.   :7.900   Max.   :4.400   Max.   :6.900   Max.   :2.500  \n",
              "       Species  \n",
              " setosa    :50  \n",
              " versicolor:50  \n",
              " virginica :50  \n",
              "                \n",
              "                \n",
              "                "
            ]
          },
          "metadata": {}
        }
      ]
    }
  ]
}