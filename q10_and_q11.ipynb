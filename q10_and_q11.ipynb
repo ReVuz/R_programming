{
  "nbformat": 4,
  "nbformat_minor": 0,
  "metadata": {
    "colab": {
      "provenance": [],
      "authorship_tag": "ABX9TyPeJTTiHBuPbvHNvphSC0Uo",
      "include_colab_link": true
    },
    "kernelspec": {
      "name": "ir",
      "display_name": "R"
    },
    "language_info": {
      "name": "R"
    }
  },
  "cells": [
    {
      "cell_type": "markdown",
      "metadata": {
        "id": "view-in-github",
        "colab_type": "text"
      },
      "source": [
        "<a href=\"https://colab.research.google.com/github/ReVuz/R_programming/blob/main/q10_and_q11.ipynb\" target=\"_parent\"><img src=\"https://colab.research.google.com/assets/colab-badge.svg\" alt=\"Open In Colab\"/></a>"
      ]
    },
    {
      "cell_type": "markdown",
      "source": [
        "Suppose you have a dataset containing information about house prices (dependent variable, denoted as price) and the size of the houses (in square feet, independent variable, denoted as size). You want to build a linear regression model to predict house prices based on their size.\n",
        "\n",
        "Write an R code snippet to perform the following steps:\n",
        "\n",
        "Load the dataset https://www.kaggle.com/competitions/house-prices-advanced-regression-techniques\n",
        "\n",
        "Fit a simple linear regression model with price as the dependent variable and size as the independent variable.\n",
        "\n",
        "Calculate the regression coefficients (slope and intercept).\n",
        "Plot the regression line along with the scatter plot of the data points."
      ],
      "metadata": {
        "id": "LlI3evWJuI11"
      }
    },
    {
      "cell_type": "code",
      "execution_count": 4,
      "metadata": {
        "colab": {
          "base_uri": "https://localhost:8080/",
          "height": 364
        },
        "id": "eur8y9vHoBe_",
        "outputId": "07f6a9dc-a12f-4da5-836c-23ad11747f03"
      },
      "outputs": [
        {
          "output_type": "display_data",
          "data": {
            "text/plain": [
              "\n",
              "Call:\n",
              "lm(formula = house_data$SalePrice ~ house_data$GrLivArea, data = house_data)\n",
              "\n",
              "Residuals:\n",
              "    Min      1Q  Median      3Q     Max \n",
              "-462999  -29800   -1124   21957  339832 \n",
              "\n",
              "Coefficients:\n",
              "                      Estimate Std. Error t value Pr(>|t|)    \n",
              "(Intercept)          18569.026   4480.755   4.144 3.61e-05 ***\n",
              "house_data$GrLivArea   107.130      2.794  38.348  < 2e-16 ***\n",
              "---\n",
              "Signif. codes:  0 ‘***’ 0.001 ‘**’ 0.01 ‘*’ 0.05 ‘.’ 0.1 ‘ ’ 1\n",
              "\n",
              "Residual standard error: 56070 on 1458 degrees of freedom\n",
              "Multiple R-squared:  0.5021,\tAdjusted R-squared:  0.5018 \n",
              "F-statistic:  1471 on 1 and 1458 DF,  p-value: < 2.2e-16\n"
            ]
          },
          "metadata": {}
        },
        {
          "output_type": "stream",
          "name": "stdout",
          "text": [
            "Intercept: 18569.03 \n",
            "Slope: 107.1304 \n"
          ]
        }
      ],
      "source": [
        "house_data <- read.csv(\"train.csv\")\n",
        "summary(model)\n",
        "# Extract intercept and slope\n",
        "intercept <- coef(model)[1]\n",
        "slope <- coef(model)[2]6\n",
        "\n",
        "# Display intercept and slope\n",
        "cat(\"Intercept:\", intercept, \"\\n\")\n",
        "cat(\"Slope:\", slope, \"\\n\")\n",
        "# abline (model, col = \"red\")\n",
        "# plot(house_data$GrLivArea, house_data$SalePrice, main = \"House Price vs Size\", xlab = \"Size (sq ft)\", ylab = \"Price ($)\")\n",
        "# model <- lm (house_data$SalePrice ~ house_data$GrLivArea, data = house_data)"
      ]
    },
    {
      "cell_type": "markdown",
      "source": [
        "a) Create an adjacency list representation for a given undirected graph\n",
        "\n",
        "b) Implement a function to add an edge between two vertices in the graph.\n",
        "\n",
        "c) Write an R function to perform DFS traversal on a graph starting from a specific vertex.\n",
        "\n",
        "Reference\n",
        "\n",
        "https://r.igraph.org/index.html\n"
      ],
      "metadata": {
        "id": "UCgNZQWJuUAU"
      }
    },
    {
      "cell_type": "code",
      "source": [
        "install.packages(\"igraph\")\n",
        "install.packages(\"tidygraph\")"
      ],
      "metadata": {
        "id": "1JvuAPMro_Xw",
        "colab": {
          "base_uri": "https://localhost:8080/"
        },
        "outputId": "63d166fa-20fb-432a-f804-7e1a436287c5"
      },
      "execution_count": 6,
      "outputs": [
        {
          "output_type": "stream",
          "name": "stderr",
          "text": [
            "Installing package into ‘/usr/local/lib/R/site-library’\n",
            "(as ‘lib’ is unspecified)\n",
            "\n",
            "Installing package into ‘/usr/local/lib/R/site-library’\n",
            "(as ‘lib’ is unspecified)\n",
            "\n"
          ]
        }
      ]
    },
    {
      "cell_type": "code",
      "source": [
        "library(igraph)\n",
        "library(tidygraph)\n",
        "\n",
        "# Create an igraph\n",
        "# c - d\n",
        "#   - e\n",
        "#   - f - b\n",
        "ig <- graph_from_literal(f-+b, c-+e:f, c-+d)\n",
        "ig\n",
        "\n",
        "# Calculate the depth-first search from node \"c\"\n",
        "ig_dfs <- graph.dfs(\n",
        "  ig,\n",
        "  root = \"c\",\n",
        "  neimode = \"out\",\n",
        "  father = TRUE,\n",
        "  order = TRUE,\n",
        "  unreachable = FALSE,\n",
        "  dist = TRUE\n",
        ")\n",
        "\n",
        "# `$father` is a named vector.  Each item is a node, in the same order as V(ig).\n",
        "# The values are the indices of each node's parent.  Look the indices up among\n",
        "# the names to get the name of the parent.  The order of nodes in these vectors\n",
        "# is arbitrary, the order of the internal storage.\n",
        "\n",
        "node_ids <- as.numeric(V(ig)) # id of each node, in order of node id\n",
        "node_names <- names(V(ig)) # name of each node, in order of node id\n",
        "parent_ids <- as.integer(ig_dfs$father) # id of each node's parent, in order of node id\n",
        "parent_names <- node_names[ig_dfs$father] # name of each node's parent, in order of node id\n",
        "node_ids_dfs <- as.numeric(ig_dfs$order) # id of each node, in dfs order\n",
        "node_names_dfs <- names(ig_dfs$order) # name of each node, in dfs order\n",
        "parent_ids_dfs <- parent_ids[ig_dfs$order] # id of each node's parent, in dfs order\n",
        "parent_names_dfs <- parent_names[ig_dfs$order] # name of each node's parent, in dfs order\n",
        "node_depth <- as.numeric(ig_dfs$dist) # depth of each node\n",
        "node_depth_dfs <- as.numeric(ig_dfs$dist[node_names_dfs]) # depth of each node, in dfs order\n",
        "\n",
        "node_names[2] # node name, given node id\n",
        "parent_ids[2] # parent id, given node id\n",
        "parent_names[2] # parent name, given node id\n",
        "node_depth[2] # node depth, given node id\n",
        "node_ids_dfs[3] # node id, given node's place in the dfs order\n",
        "node_names_dfs[3] # node name, given node's place in the dfs order\n",
        "parent_ids_dfs[3] # parent id, given node's place in the dfs order\n",
        "parent_names_dfs[3] # parent name, given node's place in the dfs order\n",
        "node_ids[which(parent_ids == 1)] # children ids, given node id\n",
        "node_names[which(parent_ids == 1)] # children names, given node id\n",
        "node_ids_dfs[which(node_ids_dfs == node_ids_dfs[3])] # children ids, given node's place in the dfs order\n",
        "node_names_dfs[which(node_ids_dfs == node_ids_dfs[3])] # children names, given node's place in the dfs order\n",
        "\n",
        "# Tidygraph resolves it back to node IDs, not to names.\n",
        "ig |>\n",
        "  as_tbl_graph() |>\n",
        "  activate(nodes) |>\n",
        "  mutate(parent = dfs_parent(root = which(names(V(ig)) == \"c\")))"
      ],
      "metadata": {
        "colab": {
          "base_uri": "https://localhost:8080/",
          "height": 1000
        },
        "id": "OfOS3CmEujOu",
        "outputId": "49dce886-e60d-4d84-b771-62a26e93fe06"
      },
      "execution_count": 7,
      "outputs": [
        {
          "output_type": "stream",
          "name": "stderr",
          "text": [
            "\n",
            "Attaching package: ‘igraph’\n",
            "\n",
            "\n",
            "The following objects are masked from ‘package:stats’:\n",
            "\n",
            "    decompose, spectrum\n",
            "\n",
            "\n",
            "The following object is masked from ‘package:base’:\n",
            "\n",
            "    union\n",
            "\n",
            "\n",
            "\n",
            "Attaching package: ‘tidygraph’\n",
            "\n",
            "\n",
            "The following object is masked from ‘package:igraph’:\n",
            "\n",
            "    groups\n",
            "\n",
            "\n",
            "The following object is masked from ‘package:stats’:\n",
            "\n",
            "    filter\n",
            "\n",
            "\n"
          ]
        },
        {
          "output_type": "display_data",
          "data": {
            "text/plain": [
              "IGRAPH 195cbde DN-- 5 4 -- \n",
              "+ attr: name (v/c)\n",
              "+ edges from 195cbde (vertex names):\n",
              "[1] f->b c->f c->e c->d"
            ]
          },
          "metadata": {}
        },
        {
          "output_type": "stream",
          "name": "stderr",
          "text": [
            "Warning message in graph.dfs(ig, root = \"c\", neimode = \"out\", father = TRUE, order = TRUE, :\n",
            "“Argument `neimode' is deprecated; use `mode' instead”\n"
          ]
        },
        {
          "output_type": "display_data",
          "data": {
            "text/html": [
              "'b'"
            ],
            "text/markdown": "'b'",
            "text/latex": "'b'",
            "text/plain": [
              "[1] \"b\""
            ]
          },
          "metadata": {}
        },
        {
          "output_type": "display_data",
          "data": {
            "text/html": [
              "1"
            ],
            "text/markdown": "1",
            "text/latex": "1",
            "text/plain": [
              "[1] 1"
            ]
          },
          "metadata": {}
        },
        {
          "output_type": "display_data",
          "data": {
            "text/html": [
              "'f'"
            ],
            "text/markdown": "'f'",
            "text/latex": "'f'",
            "text/plain": [
              "[1] \"f\""
            ]
          },
          "metadata": {}
        },
        {
          "output_type": "display_data",
          "data": {
            "text/html": [
              "2"
            ],
            "text/markdown": "2",
            "text/latex": "2",
            "text/plain": [
              "[1] 2"
            ]
          },
          "metadata": {}
        },
        {
          "output_type": "display_data",
          "data": {
            "text/html": [
              "2"
            ],
            "text/markdown": "2",
            "text/latex": "2",
            "text/plain": [
              "[1] 2"
            ]
          },
          "metadata": {}
        },
        {
          "output_type": "display_data",
          "data": {
            "text/html": [
              "'b'"
            ],
            "text/markdown": "'b'",
            "text/latex": "'b'",
            "text/plain": [
              "[1] \"b\""
            ]
          },
          "metadata": {}
        },
        {
          "output_type": "display_data",
          "data": {
            "text/html": [
              "1"
            ],
            "text/markdown": "1",
            "text/latex": "1",
            "text/plain": [
              "[1] 1"
            ]
          },
          "metadata": {}
        },
        {
          "output_type": "display_data",
          "data": {
            "text/html": [
              "'f'"
            ],
            "text/markdown": "'f'",
            "text/latex": "'f'",
            "text/plain": [
              "[1] \"f\""
            ]
          },
          "metadata": {}
        },
        {
          "output_type": "display_data",
          "data": {
            "text/html": [
              "2"
            ],
            "text/markdown": "2",
            "text/latex": "2",
            "text/plain": [
              "[1] 2"
            ]
          },
          "metadata": {}
        },
        {
          "output_type": "display_data",
          "data": {
            "text/html": [
              "'b'"
            ],
            "text/markdown": "'b'",
            "text/latex": "'b'",
            "text/plain": [
              "[1] \"b\""
            ]
          },
          "metadata": {}
        },
        {
          "output_type": "display_data",
          "data": {
            "text/html": [
              "2"
            ],
            "text/markdown": "2",
            "text/latex": "2",
            "text/plain": [
              "[1] 2"
            ]
          },
          "metadata": {}
        },
        {
          "output_type": "display_data",
          "data": {
            "text/html": [
              "'b'"
            ],
            "text/markdown": "'b'",
            "text/latex": "'b'",
            "text/plain": [
              "[1] \"b\""
            ]
          },
          "metadata": {}
        },
        {
          "output_type": "display_data",
          "data": {
            "text/plain": [
              "\u001b[90m# A tbl_graph: 5 nodes and 4 edges\n",
              "\u001b[39m\u001b[90m#\n",
              "\u001b[39m\u001b[90m# A rooted tree\n",
              "\u001b[39m\u001b[90m#\n",
              "\u001b[39m\u001b[90m# Node Data: 5 × 2 (active)\u001b[39m\n",
              "  name  parent\n",
              "  \u001b[3m\u001b[90m<chr>\u001b[39m\u001b[23m  \u001b[3m\u001b[90m<int>\u001b[39m\u001b[23m\n",
              "\u001b[90m1\u001b[39m f          3\n",
              "\u001b[90m2\u001b[39m b          1\n",
              "\u001b[90m3\u001b[39m c         \u001b[31mNA\u001b[39m\n",
              "\u001b[90m4\u001b[39m e          3\n",
              "\u001b[90m5\u001b[39m d          3\n",
              "\u001b[90m#\n",
              "\u001b[39m\u001b[90m# Edge Data: 4 × 2\u001b[39m\n",
              "   from    to\n",
              "  \u001b[3m\u001b[90m<int>\u001b[39m\u001b[23m \u001b[3m\u001b[90m<int>\u001b[39m\u001b[23m\n",
              "\u001b[90m1\u001b[39m     1     2\n",
              "\u001b[90m2\u001b[39m     3     1\n",
              "\u001b[90m3\u001b[39m     3     4\n",
              "\u001b[90m# ℹ 1 more row\u001b[39m"
            ]
          },
          "metadata": {}
        }
      ]
    },
    {
      "cell_type": "code",
      "source": [],
      "metadata": {
        "id": "4CSvJaO1Co_7"
      },
      "execution_count": null,
      "outputs": []
    }
  ]
}